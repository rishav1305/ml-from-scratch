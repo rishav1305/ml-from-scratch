{
 "cells": [
  {
   "cell_type": "markdown",
   "metadata": {
    "application/vnd.databricks.v1+cell": {
     "cellMetadata": {
      "byteLimit": 2048000,
      "rowLimit": 10000
     },
     "inputWidgets": {},
     "nuid": "72f210a5-f2b7-48a9-bb2e-641cf1e69547",
     "showTitle": false,
     "title": ""
    }
   },
   "source": [
    "#Importing Data"
   ]
  },
  {
   "cell_type": "code",
   "execution_count": 0,
   "metadata": {
    "application/vnd.databricks.v1+cell": {
     "cellMetadata": {
      "byteLimit": 2048000,
      "rowLimit": 10000
     },
     "inputWidgets": {},
     "nuid": "a70640d3-2496-4a82-b90f-d0c14dc84ea9",
     "showTitle": false,
     "title": ""
    }
   },
   "outputs": [],
   "source": [
    "from sklearn.datasets import load_digits\n",
    "digits = load_digits()"
   ]
  },
  {
   "cell_type": "markdown",
   "metadata": {
    "application/vnd.databricks.v1+cell": {
     "cellMetadata": {
      "byteLimit": 2048000,
      "rowLimit": 10000
     },
     "inputWidgets": {},
     "nuid": "b077b18b-2258-4cef-af3b-0aa72d123497",
     "showTitle": false,
     "title": ""
    }
   },
   "source": [
    "#Data Grooming"
   ]
  },
  {
   "cell_type": "markdown",
   "metadata": {
    "application/vnd.databricks.v1+cell": {
     "cellMetadata": {
      "byteLimit": 2048000,
      "rowLimit": 10000
     },
     "inputWidgets": {},
     "nuid": "a7833807-2eee-464c-ad39-7882cff84f3e",
     "showTitle": false,
     "title": ""
    }
   },
   "source": [
    "##Data scaling using MinMaxScaler"
   ]
  },
  {
   "cell_type": "code",
   "execution_count": 0,
   "metadata": {
    "application/vnd.databricks.v1+cell": {
     "cellMetadata": {
      "byteLimit": 2048000,
      "rowLimit": 10000
     },
     "inputWidgets": {},
     "nuid": "ca0a7e99-2878-493e-ad54-1f00aa8de956",
     "showTitle": false,
     "title": ""
    }
   },
   "outputs": [],
   "source": [
    "import numpy as np\n",
    "sample_x = np.random.randn(50, 5)\n",
    "sample_y = np.random.randn(50, 1)\n",
    "sample_x.shape, sample_y.shape"
   ]
  },
  {
   "cell_type": "code",
   "execution_count": 0,
   "metadata": {
    "application/vnd.databricks.v1+cell": {
     "cellMetadata": {
      "byteLimit": 2048000,
      "rowLimit": 10000
     },
     "inputWidgets": {},
     "nuid": "6c4e619f-73c8-4707-9dbd-007073e4a244",
     "showTitle": false,
     "title": ""
    }
   },
   "outputs": [],
   "source": [
    "from sklearn.preprocessing import MinMaxScaler\n",
    "scaler = MinMaxScaler()\n",
    "X = scaler.fit_transform(digits.data)\n",
    "y = digits.target.reshape(-1,1)\n",
    "\n",
    "\n",
    "# X = scaler.fit_transform(sample_x)\n",
    "# y = sample_y"
   ]
  },
  {
   "cell_type": "markdown",
   "metadata": {
    "application/vnd.databricks.v1+cell": {
     "cellMetadata": {
      "byteLimit": 2048000,
      "rowLimit": 10000
     },
     "inputWidgets": {},
     "nuid": "667546e0-81ce-4fdb-bb25-a71fd9ea339a",
     "showTitle": false,
     "title": ""
    }
   },
   "source": [
    "##One Hot Encoding"
   ]
  },
  {
   "cell_type": "code",
   "execution_count": 0,
   "metadata": {
    "application/vnd.databricks.v1+cell": {
     "cellMetadata": {
      "byteLimit": 2048000,
      "rowLimit": 10000
     },
     "inputWidgets": {},
     "nuid": "5ba90c46-d7cd-4186-a7bd-4be40261cc8c",
     "showTitle": false,
     "title": ""
    }
   },
   "outputs": [],
   "source": [
    "from sklearn.preprocessing import OneHotEncoder\n",
    "encoder = OneHotEncoder(sparse=True)\n",
    "y_encoded = encoder.fit_transform(y)"
   ]
  },
  {
   "cell_type": "markdown",
   "metadata": {
    "application/vnd.databricks.v1+cell": {
     "cellMetadata": {
      "byteLimit": 2048000,
      "rowLimit": 10000
     },
     "inputWidgets": {},
     "nuid": "5c1460b5-f8ba-4f70-9916-ef824e718883",
     "showTitle": false,
     "title": ""
    }
   },
   "source": [
    "##Train-Test Split"
   ]
  },
  {
   "cell_type": "code",
   "execution_count": 0,
   "metadata": {
    "application/vnd.databricks.v1+cell": {
     "cellMetadata": {
      "byteLimit": 2048000,
      "rowLimit": 10000
     },
     "inputWidgets": {},
     "nuid": "a9e37b23-4024-4ac9-8870-1bacf8cc96f5",
     "showTitle": false,
     "title": ""
    }
   },
   "outputs": [],
   "source": [
    "from sklearn.model_selection import train_test_split\n",
    "X_train, X_test, y_train, y_test = train_test_split(X, y, test_size=0.2, random_state=42)"
   ]
  },
  {
   "cell_type": "markdown",
   "metadata": {
    "application/vnd.databricks.v1+cell": {
     "cellMetadata": {
      "byteLimit": 2048000,
      "rowLimit": 10000
     },
     "inputWidgets": {},
     "nuid": "4a0cc563-bc22-4f9d-862a-8477a7699224",
     "showTitle": false,
     "title": ""
    }
   },
   "source": [
    "#Create Neural Network"
   ]
  },
  {
   "cell_type": "markdown",
   "metadata": {
    "application/vnd.databricks.v1+cell": {
     "cellMetadata": {
      "byteLimit": 2048000,
      "rowLimit": 10000
     },
     "inputWidgets": {},
     "nuid": "4167ff99-c0ff-4f6c-b5d9-32e77384583a",
     "showTitle": false,
     "title": ""
    }
   },
   "source": [
    "##Setup Inputs"
   ]
  },
  {
   "cell_type": "code",
   "execution_count": 0,
   "metadata": {
    "application/vnd.databricks.v1+cell": {
     "cellMetadata": {
      "byteLimit": 2048000,
      "rowLimit": 10000
     },
     "inputWidgets": {},
     "nuid": "5dddbb32-70a2-4989-b7c0-19bd59b47f0b",
     "showTitle": false,
     "title": ""
    }
   },
   "outputs": [],
   "source": [
    "import numpy as np\n",
    "\n",
    "input_size = X.shape[1]\n",
    "hidden_size = input_size\n",
    "output_size = len(np.unique(y))\n",
    "loss_func = 'categorical_crossentropy'\n",
    "epochs = 2\n",
    "learning_rate = 0.1\n",
    "\n",
    "print(f\"\"\"\n",
    "        Setup details -\n",
    "           input_size: {input_size}\n",
    "           hidden_size: {hidden_size}\n",
    "           output_size: {output_size}\n",
    "           loss_func: {loss_func}\n",
    "           epochs: {epochs}\n",
    "           learning_rate: {learning_rate}\n",
    "              \"\"\")"
   ]
  },
  {
   "cell_type": "markdown",
   "metadata": {
    "application/vnd.databricks.v1+cell": {
     "cellMetadata": {
      "byteLimit": 2048000,
      "rowLimit": 10000
     },
     "inputWidgets": {},
     "nuid": "a62dde40-11fa-4cc0-b107-23a9fdccdba6",
     "showTitle": false,
     "title": ""
    }
   },
   "source": [
    "##Model Training"
   ]
  },
  {
   "cell_type": "code",
   "execution_count": 0,
   "metadata": {
    "application/vnd.databricks.v1+cell": {
     "cellMetadata": {
      "byteLimit": 2048000,
      "rowLimit": 10000
     },
     "inputWidgets": {},
     "nuid": "e346c4d5-5d3f-4ce6-9878-794afb117779",
     "showTitle": false,
     "title": ""
    }
   },
   "outputs": [],
   "source": [
    "class NeuralNetwork():\n",
    "    def __init__(self, input_size, hidden_size, output_size, loss_func):\n",
    "        self.input_size = input_size\n",
    "        self.hidden_size = hidden_size\n",
    "        self.output_size = output_size\n",
    "        self.loss_func = loss_func\n",
    "\n",
    "        self.weights1 = np.random.randn(self.input_size, self.hidden_size)\n",
    "        self.bias1 = np.zeros((1, self.hidden_size))\n",
    "        self.weights2 = np.random.randn(self.input_size, self.hidden_size)\n",
    "        self.bias2 = np.zeros((1, self.hidden_size))\n",
    "\n",
    "        print(f\"\"\"{'#'*20}\n",
    "        Init w/b details -\n",
    "           weights1: {self.weights1}\n",
    "           bias1: {self.bias1}\n",
    "           weights2: {self.weights2}\n",
    "           bias2: {self.bias2}\n",
    "              \"\"\")\n",
    "\n",
    "        self.train_loss = []\n",
    "        self.test_loss = []\n",
    "\n",
    "    def __str__(self):\n",
    "        return f\"\"\"{'#'*20}\n",
    "        Neural Network details -\n",
    "           Input Size: {self.input_size} neurons\n",
    "           Hidden Size: {self.hidden_size} neurons \n",
    "           Output Size: {self.output_size} neurons \n",
    "           Loss Function: {self.loss_func} \n",
    "        \"\"\"\n",
    "\n",
    "    def forward(self, X):\n",
    "        self.z1 = np.dot(X, self.weights1) + self.bias1\n",
    "        self.a1 = self.sigmoid(self.z1)\n",
    "        self.z2 = np.dot(self.a1, self.weights2) + self.bias2\n",
    "        if self.loss_func == 'categorical_crossentropy':\n",
    "            self.a2 = self.softmax(self.z2)\n",
    "        else:\n",
    "            self.a2 = self.sigmoid(self.z2)\n",
    "        \n",
    "        print(f\"\"\"{'#'*20}\n",
    "        Forward details -\n",
    "           z1: {self.z1}\n",
    "           a1: {self.a1}\n",
    "           z2: {self.z2}\n",
    "           a2: {self.a2}\n",
    "              \"\"\")\n",
    "        return self.a2\n",
    "    \n",
    "    def backward(self, X, y, learning_rate):\n",
    "        m = X.shape[0]\n",
    "        self.dz2 = self.a2 - y\n",
    "        self.dw2 = (1/m) * np.dot(self.a2.T, self.dz2)\n",
    "        self.db2 = (1/m) * np.sum(self.dz2, keepdims=True, axis=0)\n",
    "        self.dz1 = np.dot(self.dz2, self.weights2.T) * self.sigmoid_derivative(self.a1)\n",
    "        self.dw1 = (1 / m) * np.dot(X.T, self.dz1)\n",
    "        self.db1 = (1 / m) * np.sum(self.dz1, axis=0, keepdims=True)\n",
    "\n",
    "        self.weights2 -= learning_rate * self.dw2\n",
    "        self.bias2 -= learning_rate * self.db2\n",
    "        self.weights1 -= learning_rate * self.dw1\n",
    "        self.bias1 -= learning_rate * self.db1\n",
    "        \n",
    "        print(f\"\"\"{'#'*20}\n",
    "        backward details -\n",
    "           dz2: {self.dz2}\n",
    "           dw2: {self.dw2}\n",
    "           db2: {self.db2}\n",
    "           dz1: {self.dz1}\n",
    "           dw1: {self.dw1}\n",
    "           db1: {self.db1}\n",
    "\n",
    "           weights1: {self.weights1}\n",
    "           bias1: {self.bias1}\n",
    "           weights2: {self.weights2}\n",
    "           bias2: {self.bias2}\n",
    "              \"\"\")\n",
    "        \n",
    "    def sigmoid(self, x):\n",
    "        return 1 + (1/1+np.exp(-x))\n",
    "    \n",
    "    def sigmoid_derivative(self, x):\n",
    "        return x * (1 - x)\n",
    "    \n",
    "    def softmax(self, x):\n",
    "        exps = np.exp(x - np.max(x, axis=1, keepdims=True))\n",
    "        return exps/np.sum(exps, axis=1, keepdims=True)\n",
    "\n",
    "class Trainer():\n",
    "\n",
    "    def __init__(self, model, loss_func):\n",
    "        self.model = model\n",
    "        self.loss_func = loss_func\n",
    "        self.train_loss = []\n",
    "        self.test_loss = []\n",
    "\n",
    "    def calculate_loss(self, y_true, y_pred):\n",
    "\n",
    "        if self.loss_func == 'mse':\n",
    "            return np.mean((y_pred - y_true)**2)\n",
    "        elif self.loss_func == 'categorical_crossentropy':\n",
    "            return -np.mean(y_true * np.log(y_pred))\n",
    "        else:\n",
    "            raise('Invalid Loss Function used')\n",
    "    \n",
    "    def train(self, X_train, X_test, y_train, y_test, epochs, learning_rate):\n",
    "\n",
    "        for _ in range(epochs):\n",
    "            self.model.forward(X_train)\n",
    "            self.model.backward(X_train, y_train, learning_rate)\n",
    "            train_loss = self.calculate_loss(y_train, self.model.a2)\n",
    "            self.train_loss.append(train_loss)\n",
    "\n",
    "            self.model.forward(X_test)\n",
    "            self.model.backward(X_test, y_test, learning_rate)\n",
    "            test_loss = self.calculate_loss(y_test, self.model.a2)\n",
    "            \n",
    "            print(f\"\"\"{'#'*20}\n",
    "            final w/b details -\n",
    "            weights1: {self.model.weights1}\n",
    "            bias1: {self.model.bias1}\n",
    "            weights2: {self.model.weights2}\n",
    "            bias2: {self.model.bias2}\n",
    "                \"\"\")\n",
    "\n"
   ]
  },
  {
   "cell_type": "code",
   "execution_count": 0,
   "metadata": {
    "application/vnd.databricks.v1+cell": {
     "cellMetadata": {
      "byteLimit": 2048000,
      "rowLimit": 10000
     },
     "inputWidgets": {},
     "nuid": "093d69d7-d478-4f79-94a0-313afe8b232e",
     "showTitle": false,
     "title": ""
    }
   },
   "outputs": [],
   "source": [
    "nn = NeuralNetwork(input_size, hidden_size, output_size, loss_func)\n",
    "trainer = Trainer(nn, loss_func)\n",
    "trainer.train(X_train, X_test, y_train, y_test, epochs, learning_rate)"
   ]
  },
  {
   "cell_type": "markdown",
   "metadata": {
    "application/vnd.databricks.v1+cell": {
     "cellMetadata": {
      "byteLimit": 2048000,
      "rowLimit": 10000
     },
     "inputWidgets": {},
     "nuid": "896ce61c-0036-4c1f-b978-bbdc007f9e24",
     "showTitle": false,
     "title": ""
    }
   },
   "source": [
    "##Prediction"
   ]
  },
  {
   "cell_type": "code",
   "execution_count": 0,
   "metadata": {
    "application/vnd.databricks.v1+cell": {
     "cellMetadata": {
      "byteLimit": 2048000,
      "rowLimit": 10000
     },
     "inputWidgets": {},
     "nuid": "a199a7ac-1d8e-41a7-aeeb-11a63960776d",
     "showTitle": false,
     "title": ""
    }
   },
   "outputs": [],
   "source": [
    "predictions = np.argmax(nn.forward(X_test), axis=1)"
   ]
  },
  {
   "cell_type": "markdown",
   "metadata": {
    "application/vnd.databricks.v1+cell": {
     "cellMetadata": {
      "byteLimit": 2048000,
      "rowLimit": 10000
     },
     "inputWidgets": {},
     "nuid": "f4224fdc-407a-43ed-a271-fd563b625a15",
     "showTitle": false,
     "title": ""
    }
   },
   "source": [
    "##Evaluation"
   ]
  },
  {
   "cell_type": "code",
   "execution_count": 0,
   "metadata": {
    "application/vnd.databricks.v1+cell": {
     "cellMetadata": {
      "byteLimit": 2048000,
      "rowLimit": 10000
     },
     "inputWidgets": {},
     "nuid": "e3910ec9-8347-4191-a8b5-5cea03337a8c",
     "showTitle": false,
     "title": ""
    }
   },
   "outputs": [],
   "source": [
    "accuracy = np.mean(predictions == y_test_labels)\n",
    "print(f'Accuracy: {accuracy:.2%}')"
   ]
  },
  {
   "cell_type": "markdown",
   "metadata": {
    "application/vnd.databricks.v1+cell": {
     "cellMetadata": {},
     "inputWidgets": {},
     "nuid": "b4c6c21c-ddfd-49f3-b7bb-dcb538d3b0b4",
     "showTitle": false,
     "title": ""
    }
   },
   "source": [
    "#Fine Tuning the model"
   ]
  },
  {
   "cell_type": "markdown",
   "metadata": {
    "application/vnd.databricks.v1+cell": {
     "cellMetadata": {},
     "inputWidgets": {},
     "nuid": "2c58f68e-a4ba-41af-803d-4ecd33bab737",
     "showTitle": false,
     "title": ""
    }
   },
   "source": [
    "##Create Trial function"
   ]
  },
  {
   "cell_type": "code",
   "execution_count": 0,
   "metadata": {
    "application/vnd.databricks.v1+cell": {
     "cellMetadata": {},
     "inputWidgets": {},
     "nuid": "54518d5c-e9fe-4d04-8942-5e0ec631afb1",
     "showTitle": false,
     "title": ""
    }
   },
   "outputs": [],
   "source": [
    "def objective(trial):\n",
    "    hidden_size = trial.suggest_int('hidden_size', 32, 128)\n",
    "    learning_rate = trial.suggest_loguniform('learning_rate', 1e-4, 1e-1)\n",
    "    epochs = trial.suggest_int('epochs', 500, 10000)\n",
    "\n",
    "    nn = NeuralNetwork(input_size, hidden_size, output_size, loss_func)\n",
    "    trainer = Trainer(nn, loss_func)\n",
    "    trainer.train(X_train, y_train, X_test, y_test, epochs, learning_rate)\n",
    "\n",
    "    predictions = np.argmax(nn.forward(X_test), axis=1)\n",
    "    accuracy = np.mean(predictions == y_test_labels)\n",
    "\n",
    "    return accuracy"
   ]
  },
  {
   "cell_type": "markdown",
   "metadata": {
    "application/vnd.databricks.v1+cell": {
     "cellMetadata": {},
     "inputWidgets": {},
     "nuid": "9f43a4d8-4cf1-49b4-bdcc-d32c7abb705d",
     "showTitle": false,
     "title": ""
    }
   },
   "source": [
    "## Optimize Model"
   ]
  },
  {
   "cell_type": "code",
   "execution_count": 0,
   "metadata": {
    "application/vnd.databricks.v1+cell": {
     "cellMetadata": {},
     "inputWidgets": {},
     "nuid": "b363b1b6-1432-49de-8991-100c26559bf0",
     "showTitle": false,
     "title": ""
    }
   },
   "outputs": [],
   "source": [
    "import optuna \n",
    "\n",
    "study = optuna.create_study(study_name='nn_study', direction='maximize')\n",
    "study.optimize(objective, n_trials=10)\n",
    "\n",
    "print(f\"Best trial: {study.best_trial.params}\")\n",
    "print(f\"Best value: {study.best_trial.value}\")"
   ]
  },
  {
   "cell_type": "markdown",
   "metadata": {
    "application/vnd.databricks.v1+cell": {
     "cellMetadata": {},
     "inputWidgets": {},
     "nuid": "5b045983-6143-4911-94ed-fd68dd322dda",
     "showTitle": false,
     "title": ""
    }
   },
   "source": [
    "##Best Case run"
   ]
  },
  {
   "cell_type": "code",
   "execution_count": 0,
   "metadata": {
    "application/vnd.databricks.v1+cell": {
     "cellMetadata": {},
     "inputWidgets": {},
     "nuid": "0faa1fef-2174-4f02-8b72-98d7fd4e86d6",
     "showTitle": false,
     "title": ""
    }
   },
   "outputs": [],
   "source": [
    "best_nn = NeuralNetwork(input_size, study.best_trial.params['hidden_size'], output_size, loss_func)\n",
    "best_trainer = Trainer(best_nn, loss_func)\n",
    "best_trainer.train(X_train, y_train, X_test, y_test, study.best_trial.params['epochs'], study.best_trial.params['learning_rate'])"
   ]
  },
  {
   "cell_type": "markdown",
   "metadata": {
    "application/vnd.databricks.v1+cell": {
     "cellMetadata": {},
     "inputWidgets": {},
     "nuid": "b01c7e92-c57c-432a-83c6-1e178ed8db40",
     "showTitle": false,
     "title": ""
    }
   },
   "source": [
    "##Prediction"
   ]
  },
  {
   "cell_type": "code",
   "execution_count": 0,
   "metadata": {
    "application/vnd.databricks.v1+cell": {
     "cellMetadata": {},
     "inputWidgets": {},
     "nuid": "67827eee-b0a0-4f65-87ca-e351d5ee734e",
     "showTitle": false,
     "title": ""
    }
   },
   "outputs": [],
   "source": [
    "predictions = np.argmax(best_nn.forward(X_test), axis=1)\n",
    "accuracy = np.mean(predictions == y_test_labels)\n",
    "print(f\"Best accuracy: {accuracy:.2%}\")"
   ]
  }
 ],
 "metadata": {
  "application/vnd.databricks.v1+notebook": {
   "dashboards": [],
   "language": "python",
   "notebookMetadata": {
    "pythonIndentUnit": 4
   },
   "notebookName": "sklearn-neural_network",
   "widgets": {}
  }
 },
 "nbformat": 4,
 "nbformat_minor": 0
}
